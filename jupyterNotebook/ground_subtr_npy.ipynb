{
 "cells": [
  {
   "cell_type": "code",
   "execution_count": 1,
   "id": "d0ceab49",
   "metadata": {},
   "outputs": [
    {
     "name": "stdout",
     "output_type": "stream",
     "text": [
      "in linux\n"
     ]
    }
   ],
   "source": [
    "import sys\n",
    "if sys.platform.startswith('linux'): # or win\n",
    "    print(\"in linux\")\n",
    "    file_path = \"/home/ncslaber/109-2/hill_experiment/npy_depth/\"\n",
    "#     sys.path.remove('/opt/ros/kinetic/lib/python2.7/dist-packages')\n",
    "else:\n",
    "    file_path = r\"G:/我的雲端硬碟/0327_align_depth/\""
   ]
  },
  {
   "cell_type": "code",
   "execution_count": 2,
   "id": "4d24e48a",
   "metadata": {},
   "outputs": [],
   "source": [
    "'''math tool'''\n",
    "import csv\n",
    "import numpy as np\n",
    "\n",
    "'''plot tool'''\n",
    "import matplotlib.pyplot as plt\n",
    "from mpl_toolkits.mplot3d import Axes3D\n",
    "from matplotlib import cm\n",
    "from matplotlib.ticker import LinearLocator\n",
    "import matplotlib.ticker as ticker\n",
    "\n",
    "'''image tool'''\n",
    "import cv2\n",
    "import statistics # as sta"
   ]
  },
  {
   "cell_type": "code",
   "execution_count": 29,
   "id": "97c37636",
   "metadata": {},
   "outputs": [
    {
     "name": "stdout",
     "output_type": "stream",
     "text": [
      "<U5\n",
      "(480, 640)\n"
     ]
    },
    {
     "data": {
      "text/plain": [
       "'\\ncv2.imshow(\"raw\", npDepthF)\\ncv2.waitKey(0)\\ncv2.imshow(\"filtered\", npDepthF_color)\\ncv2.waitKey(0)\\n# cv2.destroyAllWindows()\\ncv2.destroyWindow(\"raw\")\\n'"
      ]
     },
     "execution_count": 29,
     "metadata": {},
     "output_type": "execute_result"
    },
    {
     "data": {
      "image/png": "[encoded data removed]",
      "text/plain": [
       "<Figure size 432x288 with 1 Axes>"
      ]
     },
     "metadata": {
      "needs_background": "light"
     },
     "output_type": "display_data"
    }
   ],
   "source": [
    "'''load file'''\n",
    "npDepth = []\n",
    "\n",
    "with open(file_path + 'two_tree.csv', 'r') as csvfile:\n",
    "  rows = csv.reader(csvfile, delimiter=',')\n",
    "  for row in rows:\n",
    "    npDepth.append(row)\n",
    "npDepth = np.asanyarray(npDepth)\n",
    "print(npDepth.dtype) # U5 means string length < 5\n",
    "print(npDepth.shape)\n",
    "npDepth = npDepth.astype('uint16')\n",
    "\n",
    "# npDepth = np.load(file_path+\"tree_near.npy\")\n",
    "\n",
    "npDepthF = cv2.convertScaleAbs(npDepth, alpha=0.04) # 6m\n",
    "npDepthF_color = cv2.applyColorMap(npDepthF, cv2.COLORMAP_JET)\n",
    "plt.imshow(cv2.cvtColor(npDepthF_color, cv2.COLOR_BGR2RGB))\n",
    "\n",
    "'''\n",
    "cv2.imshow(\"raw\", npDepthF)\n",
    "cv2.waitKey(0)\n",
    "cv2.imshow(\"filtered\", npDepthF_color)\n",
    "cv2.waitKey(0)\n",
    "# cv2.destroyAllWindows()\n",
    "cv2.destroyWindow(\"raw\")\n",
    "'''"
   ]
  },
  {
   "cell_type": "code",
   "execution_count": 30,
   "id": "9dd47e01",
   "metadata": {},
   "outputs": [
    {
     "data": {
      "text/plain": [
       "<matplotlib.image.AxesImage at 0x7ffb20083a90>"
      ]
     },
     "execution_count": 30,
     "metadata": {},
     "output_type": "execute_result"
    },
    {
     "data": {
      "image/png": "[encoded data removed]",
      "text/plain": [
       "<Figure size 432x288 with 1 Axes>"
      ]
     },
     "metadata": {
      "needs_background": "light"
     },
     "output_type": "display_data"
    }
   ],
   "source": [
    "color_seq = ['r','yello','green','blue','black']\n",
    "npDepth_seg = np.zeros((npDepth.shape[0],npDepth.shape[1],3))\n",
    "for i in range(480):\n",
    "    for j in range(640):\n",
    "        if npDepth[i][j]==0:\n",
    "            npDepth_seg[i][j]=(0,0,0)\n",
    "            continue\n",
    "        if npDepth[i][j]<1500:\n",
    "            npDepth_seg[i][j]=(255,0,0)\n",
    "            continue\n",
    "        if npDepth[i][j]<2000:\n",
    "            npDepth_seg[i][j]=(0,255,0)\n",
    "            continue\n",
    "        if npDepth[i][j]<3000:\n",
    "            npDepth_seg[i][j]=(22,220,220)\n",
    "            continue\n",
    "        if npDepth[i][j]<6000:\n",
    "            npDepth_seg[i][j]=(0,0,255)\n",
    "            continue\n",
    "        else: \n",
    "            npDepth_seg[i][j]=(0,130,210)\n",
    "            continue\n",
    "npDepth_seg = npDepth_seg.astype('uint8')\n",
    "%matplotlib inline\n",
    "plt.imshow(cv2.cvtColor(npDepth_seg, cv2.COLOR_BGR2RGB))"
   ]
  },
  {
   "cell_type": "code",
   "execution_count": 31,
   "id": "6c4c1d18",
   "metadata": {},
   "outputs": [],
   "source": [
    "def depth(x,y):\n",
    "    return npDepth[x][y]"
   ]
  },
  {
   "cell_type": "code",
   "execution_count": 32,
   "id": "4ed1f226",
   "metadata": {},
   "outputs": [
    {
     "data": {
      "text/plain": [
       "'\\nnpElavation = np.array([])\\nfor i in range(480):\\n    for j in range(640):\\n        x_d = j\\n        y_d = i\\n        P3D = Point3D\\n        P3D.x = (x_d - cx_d) * depth(i,j) / fx_d * (-1)\\n        P3D.y = (y_d - cy_d) * depth(i,j) / fy_d * (-1) + 360\\n        P3D.z = depth(i,j)\\n        npElavation = np.append(npElavation, P3D.y)\\nnpElavation = npElavation.reshape(480,-1);\\nnpElavation.shape\\n'"
      ]
     },
     "execution_count": 32,
     "metadata": {},
     "output_type": "execute_result"
    }
   ],
   "source": [
    "class Point3D:\n",
    "    x: int = 0\n",
    "    y: int = 0\n",
    "    z: int = 0\n",
    "cx_d = 424\n",
    "cy_d = 241\n",
    "fx_d = 424\n",
    "fy_d = 424\n",
    "\n",
    "npPointX = np.asarray(range(640))-cx_d\n",
    "npPointX = np.diag(npPointX)\n",
    "npPointX = npDepth.dot(npPointX)/ fx_d * (-1)\n",
    "\n",
    "npPointY = np.asarray(range(480))-cy_d\n",
    "npPointY = np.diag(npPointY)\n",
    "npPointY = npPointY.dot(npDepth)/ fy_d * (-1) + 360\n",
    "npPointY = npPointY.astype('float16')\n",
    "'''\n",
    "npElavation = np.array([])\n",
    "for i in range(480):\n",
    "    for j in range(640):\n",
    "        x_d = j\n",
    "        y_d = i\n",
    "        P3D = Point3D\n",
    "        P3D.x = (x_d - cx_d) * depth(i,j) / fx_d * (-1)\n",
    "        P3D.y = (y_d - cy_d) * depth(i,j) / fy_d * (-1) + 360\n",
    "        P3D.z = depth(i,j)\n",
    "        npElavation = np.append(npElavation, P3D.y)\n",
    "npElavation = npElavation.reshape(480,-1);\n",
    "npElavation.shape\n",
    "'''"
   ]
  },
  {
   "cell_type": "code",
   "execution_count": 38,
   "id": "23f323ea",
   "metadata": {},
   "outputs": [
    {
     "name": "stdout",
     "output_type": "stream",
     "text": [
      "(480, 640)\n"
     ]
    }
   ],
   "source": [
    "'''plot 3D color surface'''\n",
    "%matplotlib qt\n",
    "fig3, ax3 = plt.subplots(subplot_kw={\"projection\": \"3d\"})\n",
    "y = np.linspace(0,479,480) # data of [:x] column\n",
    "x = np.linspace(0,639,640) # data of [x:] row\n",
    "X,Y = np.meshgrid(x,y)\n",
    "print(npPointY.shape)\n",
    "initial_cmap = cm.get_cmap('rainbow')\n",
    "# reversed_cmap=initial_cmap.reversed()\n",
    "surf = ax3.plot_surface(X, Y, npPointY, cmap=initial_cmap)\n",
    "plt.title('Elevation mapping', fontsize='15')\n",
    "plt.xlabel('X[pixel]', fontsize='15')\n",
    "plt.ylabel('Y[pixel]', fontsize='15')\n",
    "fig3.colorbar(surf, shrink=0.5, aspect=5)\n",
    "plt.show()"
   ]
  },
  {
   "cell_type": "code",
   "execution_count": 34,
   "id": "290fe1d8",
   "metadata": {},
   "outputs": [],
   "source": [
    "npHeight = np.copy(npPointY)\n",
    "ground_height = np.array([])\n",
    "height,width = npHeight.shape\n",
    "layer = 10\n",
    "\n",
    "for i in range(height-layer*10, height):\n",
    "    for j in range(width):\n",
    "        if npHeight[i][j]!=0:\n",
    "            ground_height = np.append(ground_height, npHeight[i][j])\n",
    "            \n",
    "meanGrass = statistics.mean(ground_height)\n",
    "medianGrass = statistics.median(ground_height)\n",
    "stdevGrass = statistics.stdev(ground_height)"
   ]
  },
  {
   "cell_type": "code",
   "execution_count": 40,
   "id": "7ae38716",
   "metadata": {},
   "outputs": [
    {
     "data": {
      "text/plain": [
       "<matplotlib.image.AxesImage at 0x7ffb54ba2490>"
      ]
     },
     "execution_count": 40,
     "metadata": {},
     "output_type": "execute_result"
    },
    {
     "data": {
      "image/png": "[encoded data removed]",
      "text/plain": [
       "<Figure size 500x400 with 1 Axes>"
      ]
     },
     "metadata": {
      "needs_background": "light"
     },
     "output_type": "display_data"
    }
   ],
   "source": [
    "npDepth_seg_c = np.copy(npDepth_seg)\n",
    "cv2.putText(npDepth_seg_c, #numpy array on which text is written\n",
    "            'mean: '+str(np.trunc(meanGrass)), #text\n",
    "            (200,200+15), #position at which writing has to start\n",
    "            cv2.FONT_HERSHEY_SIMPLEX, #font family\n",
    "            0.9, #font size\n",
    "            (255,255,255), #font color\n",
    "            3) #font stroke\n",
    "cv2.putText(npDepth_seg_c, #numpy array on which text is written\n",
    "            'median: '+str(medianGrass), #text\n",
    "            (200,200+45), #position at which writing has to start\n",
    "            cv2.FONT_HERSHEY_SIMPLEX, #font family\n",
    "            0.9, #font size\n",
    "            (255,255,255), #font color\n",
    "            3) #font stroke\n",
    "cv2.putText(npDepth_seg_c, #numpy array on which text is written\n",
    "            'stdev: '+str(np.trunc(stdevGrass)), #text\n",
    "            (200,200+75), #position at which writing has to start\n",
    "            cv2.FONT_HERSHEY_SIMPLEX, #font family\n",
    "            0.9, #font size\n",
    "            (255,255,255), #font color\n",
    "            3) #font stroke\n",
    "cv2.putText(npDepth_seg_c, #numpy array on which text is written\n",
    "            'min: '+str(np.min(ground_height)), #text\n",
    "            (200,200+105), #position at which writing has to start\n",
    "            cv2.FONT_HERSHEY_SIMPLEX, #font family\n",
    "            0.9, #font size\n",
    "            (255,255,255), #font color\n",
    "            3) #font stroke\n",
    "cv2.putText(npDepth_seg_c, #numpy array on which text is written\n",
    "            'max: '+str(np.max(ground_height)), #text\n",
    "            (200,200+135), #position at which writing has to start\n",
    "            cv2.FONT_HERSHEY_SIMPLEX, #font family\n",
    "            0.9, #font size\n",
    "            (255,255,255), #font color\n",
    "            3) #font stroke\n",
    "cv2.line(npDepth_seg_c, (0,380),(640,380),(255,255,255),3)\n",
    "%matplotlib inline\n",
    "fig,ax = plt.subplots(figsize=(5,4), dpi = 100)\n",
    "plt.imshow(cv2.cvtColor(npDepth_seg_c, cv2.COLOR_BGR2RGB))"
   ]
  },
  {
   "cell_type": "code",
   "execution_count": 36,
   "id": "b4fd4cb9",
   "metadata": {},
   "outputs": [
    {
     "data": {
      "image/png": "[encoded data removed]",
      "text/plain": [
       "<Figure size 432x288 with 1 Axes>"
      ]
     },
     "metadata": {
      "needs_background": "light"
     },
     "output_type": "display_data"
    }
   ],
   "source": [
    "HOG_height = np.zeros(2000)\n",
    "for i in range(height-layer*10, height):\n",
    "    for j in range(width):\n",
    "        index = int(npHeight[i][j]+1000)\n",
    "        HOG_height[index] = HOG_height[index]+1\n",
    "#plt.xlim(300,800)\n",
    "plt.plot(HOG_height, linewidth=1.0, color='#008b8b', label='right')\n",
    "plt.show()"
   ]
  },
  {
   "cell_type": "code",
   "execution_count": 41,
   "id": "610df241",
   "metadata": {},
   "outputs": [
    {
     "data": {
      "text/plain": [
       "<matplotlib.image.AxesImage at 0x7ffb15d9bbe0>"
      ]
     },
     "execution_count": 41,
     "metadata": {},
     "output_type": "execute_result"
    },
    {
     "data": {
      "image/png": "[encoded data removed]",
      "text/plain": [
       "<Figure size 432x288 with 1 Axes>"
      ]
     },
     "metadata": {
      "needs_background": "light"
     },
     "output_type": "display_data"
    }
   ],
   "source": [
    "for i in range(height-layer*10, height):\n",
    "    for j in range(width):\n",
    "        if npHeight[i][j] < -500:\n",
    "            npDepth_seg_c[i][j] = (0,0,0)\n",
    "plt.imshow(cv2.cvtColor(npDepth_seg_c,cv2.COLOR_BGR2RGB))"
   ]
  },
  {
   "cell_type": "code",
   "execution_count": 44,
   "id": "686f2206",
   "metadata": {},
   "outputs": [],
   "source": [
    "npHeight_copy = np.copy(npHeight)\n",
    "npHeight_copy = npHeight_copy.astype('float32')\n",
    "\n",
    "ret, npHeight_copy = cv2.threshold(npHeight_copy, -500, 255, cv2.THRESH_BINARY_INV)\n",
    "cv2.imshow('binarize', npHeight_copy)\n",
    "cv2.waitKey(0)\n",
    "\n",
    "mask = np.zeros_like(npHeight_copy)   \n",
    "layer = 10\n",
    "region_of_interyest_vertices = [(0, height-layer*10),(width, height-layer*10),(width,height),(0,height)] \n",
    "cv2.fillPoly(mask, np.array([region_of_interest_vertices], np.int32),255)\n",
    "masked_img = cv2.bitwise_and(npHeight_copy, mask)\n",
    "cv2.imshow('threshold3', masked_img)\n",
    "cv2.waitKey(0)\n",
    "\n",
    "\n",
    "'''\n",
    "ret, masked_img = cv2.threshold(masked_img, 170, 255, cv2.THRESH_BINARY)\n",
    "cv2.imshow('threshold4', masked_img)\n",
    "cv2.waitKey(0)\n",
    "'''\n",
    "cv2.destroyAllWindows()"
   ]
  },
  {
   "cell_type": "code",
   "execution_count": 44,
   "id": "6cedd73a",
   "metadata": {},
   "outputs": [],
   "source": []
  },
  {
   "cell_type": "code",
   "execution_count": null,
   "id": "b609018e",
   "metadata": {},
   "outputs": [],
   "source": []
  }
 ],
 "metadata": {
  "kernelspec": {
   "display_name": "Python 3",
   "language": "python",
   "name": "python3"
  },
  "language_info": {
   "codemirror_mode": {
    "name": "ipython",
    "version": 3
   },
   "file_extension": ".py",
   "mimetype": "text/x-python",
   "name": "python",
   "nbconvert_exporter": "python",
   "pygments_lexer": "ipython3",
   "version": "3.8.5"
  }
 },
 "nbformat": 4,
 "nbformat_minor": 5
}
