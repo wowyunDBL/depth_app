{
 "cells": [
  {
   "cell_type": "code",
   "execution_count": 1,
   "id": "5ad5a6e8",
   "metadata": {},
   "outputs": [],
   "source": [
    "import numpy as np\n",
    "import cv2\n",
    "from scipy.spatial import distance\n",
    "import utm"
   ]
  },
  {
   "cell_type": "code",
   "execution_count": 24,
   "id": "6de849ab",
   "metadata": {},
   "outputs": [
    {
     "name": "stdout",
     "output_type": "stream",
     "text": [
      "<class 'numpy.ndarray'>\n"
     ]
    }
   ],
   "source": [
    "raw_pgm = cv2.imread(\"/home/ncslaber/hector_path_all_mm.pgm\")\n",
    "print(type(raw_pgm))"
   ]
  },
  {
   "cell_type": "code",
   "execution_count": 4,
   "id": "49a71e75",
   "metadata": {},
   "outputs": [],
   "source": [
    "raw_pgm[raw_pgm == 205]=255"
   ]
  },
  {
   "cell_type": "code",
   "execution_count": 7,
   "id": "9dc52472",
   "metadata": {},
   "outputs": [
    {
     "data": {
      "text/plain": [
       "1.0"
      ]
     },
     "execution_count": 7,
     "metadata": {},
     "output_type": "execute_result"
    }
   ],
   "source": [
    "distance.euclidean((0,0),(1,0))"
   ]
  },
  {
   "cell_type": "code",
   "execution_count": 10,
   "id": "5b953baa",
   "metadata": {},
   "outputs": [
    {
     "data": {
      "text/plain": [
       "array([1., 1.])"
      ]
     },
     "execution_count": 10,
     "metadata": {},
     "output_type": "execute_result"
    }
   ],
   "source": [
    "a = np.array([5,5])\n",
    "a / 5"
   ]
  },
  {
   "cell_type": "code",
   "execution_count": 17,
   "id": "7dec5182",
   "metadata": {},
   "outputs": [],
   "source": [
    "lat = 25.0821685\n",
    "lng = 121.60401633333"
   ]
  },
  {
   "cell_type": "code",
   "execution_count": 18,
   "id": "e1a7036b",
   "metadata": {},
   "outputs": [],
   "source": [
    "\n",
    "from pyproj import Proj\n",
    "_, _, zone, _ = utm.from_latlon(lat, lng)\n",
    "proj = Proj(proj='utm', zone=zone, ellps='WGS84', preserve_units=False)"
   ]
  },
  {
   "cell_type": "code",
   "execution_count": 14,
   "id": "f5e01933",
   "metadata": {},
   "outputs": [
    {
     "data": {
      "text/plain": [
       "<Other Coordinate Operation Transformer: utm>\n",
       "Description: PROJ-based coordinate operation\n",
       "Area of Use:\n",
       "- undefined"
      ]
     },
     "execution_count": 14,
     "metadata": {},
     "output_type": "execute_result"
    }
   ],
   "source": [
    "proj"
   ]
  },
  {
   "cell_type": "code",
   "execution_count": 15,
   "id": "ce5293fd",
   "metadata": {},
   "outputs": [],
   "source": [
    "ux, uy = proj(lng, lat)"
   ]
  },
  {
   "cell_type": "code",
   "execution_count": 18,
   "id": "3380bae1",
   "metadata": {},
   "outputs": [
    {
     "data": {
      "text/plain": [
       "359216.53688289993"
      ]
     },
     "execution_count": 18,
     "metadata": {},
     "output_type": "execute_result"
    }
   ],
   "source": [
    "ux"
   ]
  },
  {
   "cell_type": "code",
   "execution_count": 19,
   "id": "0ceabeb3",
   "metadata": {},
   "outputs": [
    {
     "data": {
      "text/plain": [
       "2774773.3391035083"
      ]
     },
     "execution_count": 19,
     "metadata": {},
     "output_type": "execute_result"
    }
   ],
   "source": [
    "uy"
   ]
  },
  {
   "cell_type": "code",
   "execution_count": 20,
   "id": "1170d35c",
   "metadata": {},
   "outputs": [
    {
     "data": {
      "text/plain": [
       "51"
      ]
     },
     "execution_count": 20,
     "metadata": {},
     "output_type": "execute_result"
    }
   ],
   "source": [
    "zone"
   ]
  },
  {
   "cell_type": "code",
   "execution_count": 24,
   "id": "edb69f40",
   "metadata": {},
   "outputs": [
    {
     "data": {
      "text/plain": [
       "(25.082168499872612, 121.60401633332765)"
      ]
     },
     "execution_count": 24,
     "metadata": {},
     "output_type": "execute_result"
    }
   ],
   "source": [
    "utm.to_latlon(359216.536882, 2774773.339, 51, 'R')\n",
    "\n",
    "lat = 25.0821685\n",
    "lng = 121.60401633333"
   ]
  },
  {
   "cell_type": "code",
   "execution_count": 25,
   "id": "3b372e2e",
   "metadata": {},
   "outputs": [
    {
     "data": {
      "text/plain": [
       "(359216.53688264405, 2774773.339087446, 51, 'R')"
      ]
     },
     "execution_count": 25,
     "metadata": {},
     "output_type": "execute_result"
    }
   ],
   "source": [
    "utm.from_latlon(lat, lng)"
   ]
  },
  {
   "cell_type": "code",
   "execution_count": 26,
   "id": "bbfc8179",
   "metadata": {},
   "outputs": [
    {
     "data": {
      "text/plain": [
       "118"
      ]
     },
     "execution_count": 26,
     "metadata": {},
     "output_type": "execute_result"
    }
   ],
   "source": [
    "4819-4773"
   ]
  },
  {
   "cell_type": "code",
   "execution_count": 4,
   "id": "5496c2cc",
   "metadata": {},
   "outputs": [],
   "source": [
    "raw_pgm = np.rot90(raw_pgm)"
   ]
  },
  {
   "cell_type": "code",
   "execution_count": 25,
   "id": "dbfd19df",
   "metadata": {},
   "outputs": [],
   "source": [
    "a = np.logical_or(raw_pgm==205,raw_pgm==255)\n",
    "a = np.logical_or(a,raw_pgm==0)"
   ]
  },
  {
   "cell_type": "code",
   "execution_count": 26,
   "id": "caf098f6",
   "metadata": {
    "scrolled": true
   },
   "outputs": [
    {
     "data": {
      "text/plain": [
       "array([254, 254, 254, ..., 254, 254, 254], dtype=uint8)"
      ]
     },
     "execution_count": 26,
     "metadata": {},
     "output_type": "execute_result"
    }
   ],
   "source": [
    "raw_pgm[~a]"
   ]
  },
  {
   "cell_type": "code",
   "execution_count": 8,
   "id": "7902660d",
   "metadata": {},
   "outputs": [
    {
     "data": {
      "text/plain": [
       "'25.08,121.60'"
      ]
     },
     "execution_count": 8,
     "metadata": {},
     "output_type": "execute_result"
    }
   ],
   "source": [
    "\"{:.2f},{:.2f}\".format(lat,lng)"
   ]
  },
  {
   "cell_type": "code",
   "execution_count": 9,
   "id": "9303fbf1",
   "metadata": {},
   "outputs": [],
   "source": [
    "centroid_rawList = [1,2,3]"
   ]
  },
  {
   "cell_type": "code",
   "execution_count": 10,
   "id": "44a5c9fc",
   "metadata": {},
   "outputs": [
    {
     "data": {
      "text/plain": [
       "1"
      ]
     },
     "execution_count": 10,
     "metadata": {},
     "output_type": "execute_result"
    }
   ],
   "source": [
    "centroid_rawList.pop(0)"
   ]
  },
  {
   "cell_type": "code",
   "execution_count": 12,
   "id": "a81efe0b",
   "metadata": {},
   "outputs": [
    {
     "data": {
      "text/plain": [
       "34.17601498127012"
      ]
     },
     "execution_count": 12,
     "metadata": {},
     "output_type": "execute_result"
    }
   ],
   "source": [
    "distance.euclidean(np.asarray([180.0 ,528.0]), np.asarray([148.0, 540.0]))"
   ]
  },
  {
   "cell_type": "code",
   "execution_count": 16,
   "id": "9267ff8b",
   "metadata": {},
   "outputs": [],
   "source": [
    "np.save('/home/ncslaber/lat_lon',[25.0821685, 121.60401633333])"
   ]
  },
  {
   "cell_type": "code",
   "execution_count": 23,
   "id": "1cc910e1",
   "metadata": {},
   "outputs": [],
   "source": [
    "neg_bd = np.array([[359209.8368829,2774776.63910351],[359210.8368829,2774777.63910351],[359209.8368829,2774777.63910351]])"
   ]
  },
  {
   "cell_type": "code",
   "execution_count": 24,
   "id": "ebb25d32",
   "metadata": {},
   "outputs": [],
   "source": [
    "gps_x, gps_y = utm.to_latlon(neg_bd[:,0], neg_bd[:,1], zone, 'R')"
   ]
  },
  {
   "cell_type": "code",
   "execution_count": 31,
   "id": "ef9295c3",
   "metadata": {},
   "outputs": [],
   "source": [
    "a = np.vstack((gps_x,gps_y))"
   ]
  },
  {
   "cell_type": "code",
   "execution_count": 32,
   "id": "2c81bde2",
   "metadata": {},
   "outputs": [
    {
     "data": {
      "text/plain": [
       "array([[ 25.08219767, 121.60394957],\n",
       "       [ 25.08220679, 121.60395939],\n",
       "       [ 25.0822067 , 121.60394947]])"
      ]
     },
     "execution_count": 32,
     "metadata": {},
     "output_type": "execute_result"
    }
   ],
   "source": [
    "np.transpose(a)"
   ]
  },
  {
   "cell_type": "code",
   "execution_count": 33,
   "id": "ce2d8a6d",
   "metadata": {},
   "outputs": [
    {
     "data": {
      "text/plain": [
       "1.4142135623730951"
      ]
     },
     "execution_count": 33,
     "metadata": {},
     "output_type": "execute_result"
    }
   ],
   "source": [
    "np.sqrt(2)"
   ]
  },
  {
   "cell_type": "code",
   "execution_count": 34,
   "id": "3fc2fe87",
   "metadata": {},
   "outputs": [
    {
     "ename": "ModuleNotFoundError",
     "evalue": "No module named 'geopandas'",
     "output_type": "error",
     "traceback": [
      "\u001b[0;31m---------------------------------------------------------------------------\u001b[0m",
      "\u001b[0;31mModuleNotFoundError\u001b[0m                       Traceback (most recent call last)",
      "\u001b[0;32m<ipython-input-34-a62d01c1d62e>\u001b[0m in \u001b[0;36m<module>\u001b[0;34m\u001b[0m\n\u001b[0;32m----> 1\u001b[0;31m \u001b[0;32mimport\u001b[0m \u001b[0mgeopandas\u001b[0m \u001b[0;32mas\u001b[0m \u001b[0mgpd\u001b[0m\u001b[0;34m\u001b[0m\u001b[0;34m\u001b[0m\u001b[0m\n\u001b[0m",
      "\u001b[0;31mModuleNotFoundError\u001b[0m: No module named 'geopandas'"
     ]
    }
   ],
   "source": [
    "import geopandas as gpd"
   ]
  },
  {
   "cell_type": "code",
   "execution_count": 2,
   "id": "d022de13",
   "metadata": {},
   "outputs": [],
   "source": [
    "import shapefile"
   ]
  },
  {
   "cell_type": "code",
   "execution_count": 115,
   "id": "ed9c25d6",
   "metadata": {},
   "outputs": [],
   "source": [
    "w = shapefile.Writer('/home/ncslaber/shapefiles/test/dtype')"
   ]
  },
  {
   "cell_type": "code",
   "execution_count": 110,
   "id": "352d2594",
   "metadata": {},
   "outputs": [],
   "source": [
    "w.field('LAT_LON', 'N', decimal=5)"
   ]
  },
  {
   "cell_type": "code",
   "execution_count": 103,
   "id": "638ce4f6",
   "metadata": {},
   "outputs": [],
   "source": [
    "b = np.transpose(a)"
   ]
  },
  {
   "cell_type": "code",
   "execution_count": 105,
   "id": "e29c32b1",
   "metadata": {},
   "outputs": [
    {
     "data": {
      "text/plain": [
       "array([[ 25.08219767, 121.60394957],\n",
       "       [ 25.08220679, 121.60395939],\n",
       "       [ 25.0822067 , 121.60394947],\n",
       "       [ 25.08219767, 121.60394957]])"
      ]
     },
     "execution_count": 105,
     "metadata": {},
     "output_type": "execute_result"
    }
   ],
   "source": [
    "np.vstack((b,[ 25.08219767, 121.60394957]))"
   ]
  },
  {
   "cell_type": "code",
   "execution_count": 92,
   "id": "0e161c32",
   "metadata": {},
   "outputs": [],
   "source": [
    "lat = [25.1, 25.2, 25.3, 25.1]\n",
    "lng = [122.1, 122.2, 122.3]"
   ]
  },
  {
   "cell_type": "code",
   "execution_count": 108,
   "id": "c1e04a3c",
   "metadata": {},
   "outputs": [
    {
     "data": {
      "text/plain": [
       "array([[ 25.08219767, 121.60394957],\n",
       "       [ 25.08220679, 121.60395939],\n",
       "       [ 25.0822067 , 121.60394947]])"
      ]
     },
     "execution_count": 108,
     "metadata": {},
     "output_type": "execute_result"
    }
   ],
   "source": [
    "b.tolist()"
   ]
  },
  {
   "cell_type": "code",
   "execution_count": 111,
   "id": "b4f17b43",
   "metadata": {},
   "outputs": [
    {
     "name": "stderr",
     "output_type": "stream",
     "text": [
      "Exception ignored in: <function Writer.__del__ at 0x7f9f9699ba60>\n",
      "Traceback (most recent call last):\n",
      "  File \"/home/ncslaber/.local/lib/python3.8/site-packages/shapefile.py\", line 1399, in __del__\n",
      "    self.close()\n",
      "  File \"/home/ncslaber/.local/lib/python3.8/site-packages/shapefile.py\", line 1415, in close\n",
      "    raise ShapefileException(\"When saving both the dbf and shp file, \"\n",
      "shapefile.ShapefileException: When saving both the dbf and shp file, the number of records (2) must correspond with the number of shapes (0)\n"
     ]
    },
    {
     "ename": "TypeError",
     "evalue": "'float' object is not iterable",
     "output_type": "error",
     "traceback": [
      "\u001b[0;31m---------------------------------------------------------------------------\u001b[0m",
      "\u001b[0;31mTypeError\u001b[0m                                 Traceback (most recent call last)",
      "\u001b[0;32m<ipython-input-111-3e089ba3da11>\u001b[0m in \u001b[0;36m<module>\u001b[0;34m\u001b[0m\n\u001b[0;32m----> 1\u001b[0;31m \u001b[0mw\u001b[0m\u001b[0;34m.\u001b[0m\u001b[0mpoly\u001b[0m\u001b[0;34m(\u001b[0m\u001b[0mb\u001b[0m\u001b[0;34m.\u001b[0m\u001b[0mtolist\u001b[0m\u001b[0;34m(\u001b[0m\u001b[0;34m)\u001b[0m\u001b[0;34m)\u001b[0m\u001b[0;34m\u001b[0m\u001b[0;34m\u001b[0m\u001b[0m\n\u001b[0m\u001b[1;32m      2\u001b[0m \u001b[0mw\u001b[0m\u001b[0;34m.\u001b[0m\u001b[0mrecord\u001b[0m\u001b[0;34m(\u001b[0m\u001b[0;34m'polygon1'\u001b[0m\u001b[0;34m)\u001b[0m\u001b[0;34m\u001b[0m\u001b[0;34m\u001b[0m\u001b[0m\n\u001b[1;32m      3\u001b[0m \u001b[0mw\u001b[0m\u001b[0;34m.\u001b[0m\u001b[0mclose\u001b[0m\u001b[0;34m(\u001b[0m\u001b[0;34m)\u001b[0m\u001b[0;34m\u001b[0m\u001b[0;34m\u001b[0m\u001b[0m\n",
      "\u001b[0;32m~/.local/lib/python3.8/site-packages/shapefile.py\u001b[0m in \u001b[0;36mpoly\u001b[0;34m(self, polys)\u001b[0m\n\u001b[1;32m   1999\u001b[0m         If some of the polygons are holes, these must run in a counterclockwise direction.\"\"\"\n\u001b[1;32m   2000\u001b[0m         \u001b[0mshapeType\u001b[0m \u001b[0;34m=\u001b[0m \u001b[0mPOLYGON\u001b[0m\u001b[0;34m\u001b[0m\u001b[0;34m\u001b[0m\u001b[0m\n\u001b[0;32m-> 2001\u001b[0;31m         \u001b[0mself\u001b[0m\u001b[0;34m.\u001b[0m\u001b[0m_shapeparts\u001b[0m\u001b[0;34m(\u001b[0m\u001b[0mparts\u001b[0m\u001b[0;34m=\u001b[0m\u001b[0mpolys\u001b[0m\u001b[0;34m,\u001b[0m \u001b[0mshapeType\u001b[0m\u001b[0;34m=\u001b[0m\u001b[0mshapeType\u001b[0m\u001b[0;34m)\u001b[0m\u001b[0;34m\u001b[0m\u001b[0;34m\u001b[0m\u001b[0m\n\u001b[0m\u001b[1;32m   2002\u001b[0m \u001b[0;34m\u001b[0m\u001b[0m\n\u001b[1;32m   2003\u001b[0m     \u001b[0;32mdef\u001b[0m \u001b[0mpolym\u001b[0m\u001b[0;34m(\u001b[0m\u001b[0mself\u001b[0m\u001b[0;34m,\u001b[0m \u001b[0mpolys\u001b[0m\u001b[0;34m)\u001b[0m\u001b[0;34m:\u001b[0m\u001b[0;34m\u001b[0m\u001b[0;34m\u001b[0m\u001b[0m\n",
      "\u001b[0;32m~/.local/lib/python3.8/site-packages/shapefile.py\u001b[0m in \u001b[0;36m_shapeparts\u001b[0;34m(self, parts, shapeType)\u001b[0m\n\u001b[1;32m   2067\u001b[0m                 \u001b[0;31m# Ensure point is list\u001b[0m\u001b[0;34m\u001b[0m\u001b[0;34m\u001b[0m\u001b[0;34m\u001b[0m\u001b[0m\n\u001b[1;32m   2068\u001b[0m                 \u001b[0;32mif\u001b[0m \u001b[0;32mnot\u001b[0m \u001b[0misinstance\u001b[0m\u001b[0;34m(\u001b[0m\u001b[0mpoint\u001b[0m\u001b[0;34m,\u001b[0m \u001b[0mlist\u001b[0m\u001b[0;34m)\u001b[0m\u001b[0;34m:\u001b[0m\u001b[0;34m\u001b[0m\u001b[0;34m\u001b[0m\u001b[0m\n\u001b[0;32m-> 2069\u001b[0;31m                     \u001b[0mpoint\u001b[0m \u001b[0;34m=\u001b[0m \u001b[0mlist\u001b[0m\u001b[0;34m(\u001b[0m\u001b[0mpoint\u001b[0m\u001b[0;34m)\u001b[0m\u001b[0;34m\u001b[0m\u001b[0;34m\u001b[0m\u001b[0m\n\u001b[0m\u001b[1;32m   2070\u001b[0m                 \u001b[0mpolyShape\u001b[0m\u001b[0;34m.\u001b[0m\u001b[0mpoints\u001b[0m\u001b[0;34m.\u001b[0m\u001b[0mappend\u001b[0m\u001b[0;34m(\u001b[0m\u001b[0mpoint\u001b[0m\u001b[0;34m)\u001b[0m\u001b[0;34m\u001b[0m\u001b[0;34m\u001b[0m\u001b[0m\n\u001b[1;32m   2071\u001b[0m         \u001b[0;31m# write the shape\u001b[0m\u001b[0;34m\u001b[0m\u001b[0;34m\u001b[0m\u001b[0;34m\u001b[0m\u001b[0m\n",
      "\u001b[0;31mTypeError\u001b[0m: 'float' object is not iterable"
     ]
    }
   ],
   "source": [
    "w.poly(b.tolist())\n",
    "w.record('polygon1')\n",
    "w.close()"
   ]
  },
  {
   "cell_type": "code",
   "execution_count": 136,
   "id": "5526433d",
   "metadata": {},
   "outputs": [],
   "source": [
    "r = shapefile.Reader('/home/ncslaber/shapefiles/test/neg_1')"
   ]
  },
  {
   "cell_type": "code",
   "execution_count": 141,
   "id": "9d286c5e",
   "metadata": {},
   "outputs": [],
   "source": [
    "assert r.record(0)"
   ]
  },
  {
   "cell_type": "code",
   "execution_count": 116,
   "id": "6aa02499",
   "metadata": {},
   "outputs": [],
   "source": [
    "w.field('name', 'C')"
   ]
  },
  {
   "cell_type": "code",
   "execution_count": 117,
   "id": "6bd25f8d",
   "metadata": {},
   "outputs": [],
   "source": [
    "w.poly([\n",
    "       [[113,24], [112,32], [117,36], [122,37], [118,20]], # poly 1\n",
    "      [[116,29],[116,26],[119,29],[119,32]], # hole 1\n",
    "        [[15,2], [17,6], [22,7]]  # poly 2\n",
    "      ])"
   ]
  },
  {
   "cell_type": "code",
   "execution_count": 118,
   "id": "8a6211d6",
   "metadata": {},
   "outputs": [],
   "source": [
    "w.record('polygon1')"
   ]
  },
  {
   "cell_type": "code",
   "execution_count": 125,
   "id": "a6235b01",
   "metadata": {},
   "outputs": [
    {
     "data": {
      "text/plain": [
       "3.141592653589793"
      ]
     },
     "execution_count": 125,
     "metadata": {},
     "output_type": "execute_result"
    }
   ],
   "source": [
    "np.pi"
   ]
  },
  {
   "cell_type": "code",
   "execution_count": 135,
   "id": "12707964",
   "metadata": {},
   "outputs": [
    {
     "data": {
      "text/plain": [
       "-0.49999999999999994"
      ]
     },
     "execution_count": 135,
     "metadata": {},
     "output_type": "execute_result"
    }
   ],
   "source": [
    "np.sin(-np.pi/6)"
   ]
  },
  {
   "cell_type": "code",
   "execution_count": 129,
   "id": "86cf1298",
   "metadata": {},
   "outputs": [
    {
     "data": {
      "text/plain": [
       "array([[ 25.08219767, 121.60394957],\n",
       "       [ 25.08220679, 121.60395939],\n",
       "       [ 25.0822067 , 121.60394947]])"
      ]
     },
     "execution_count": 129,
     "metadata": {},
     "output_type": "execute_result"
    }
   ],
   "source": [
    "b"
   ]
  },
  {
   "cell_type": "code",
   "execution_count": 133,
   "id": "3e0753b3",
   "metadata": {},
   "outputs": [],
   "source": [
    "w = shapefile.Writer('/home/ncslaber/shapefiles/test/multipointSb')\n",
    "w.field('name', 'C', '40')\n",
    "w.multipoint(b) \n",
    "w.record('multipoint1')\n",
    "w.close()"
   ]
  },
  {
   "cell_type": "code",
   "execution_count": null,
   "id": "2e116db1",
   "metadata": {},
   "outputs": [],
   "source": [
    "w = shapefile.Writer('/home/ncslaber/shapefiles/test/dtype')\n",
    "w.field('LAT', 'N', decimal=5)\n",
    "w.field('LON', 'N', decimal=5)\n",
    "w.null()\n",
    "w.record(lat,lon)\n",
    "w.close()"
   ]
  },
  {
   "cell_type": "code",
   "execution_count": 143,
   "id": "b331f14c",
   "metadata": {},
   "outputs": [],
   "source": [
    "AA = np.load('/home/ncslaber/pos_traj_GPS.npy')"
   ]
  },
  {
   "cell_type": "code",
   "execution_count": 145,
   "id": "8a9af073",
   "metadata": {},
   "outputs": [],
   "source": [
    "w = shapefile.Writer('/home/ncslaber/shapefiles/test/pos')\n",
    "w.field('LAT_LON', 'C', '40')\n",
    "w.multipoint(AA) \n",
    "w.record('pos')\n",
    "w.close()"
   ]
  },
  {
   "cell_type": "code",
   "execution_count": 4,
   "id": "2d7e0b9b",
   "metadata": {},
   "outputs": [
    {
     "data": {
      "text/plain": [
       "'ncslaber'"
      ]
     },
     "execution_count": 4,
     "metadata": {},
     "output_type": "execute_result"
    }
   ],
   "source": [
    "a = \"/home/ncslaber/anny/pos\"\n",
    "a.split('/')[-3]"
   ]
  },
  {
   "cell_type": "code",
   "execution_count": 5,
   "id": "b9238d48",
   "metadata": {},
   "outputs": [
    {
     "data": {
      "text/plain": [
       "['', 'home', 'ncslaber', 'anny', 'pos']"
      ]
     },
     "execution_count": 5,
     "metadata": {},
     "output_type": "execute_result"
    }
   ],
   "source": [
    "a.split('/')"
   ]
  },
  {
   "cell_type": "code",
   "execution_count": 7,
   "id": "6092c622",
   "metadata": {},
   "outputs": [],
   "source": [
    "import csv\n",
    "with open('/home/ncslaber/lat_lon.csv', 'a+') as csvfile: # or w\n",
    "    writer = csv.writer(csvfile)\n",
    "    writer.writerows([[25.0821685],[121.60401633333]])"
   ]
  },
  {
   "cell_type": "code",
   "execution_count": 8,
   "id": "f236e41e",
   "metadata": {},
   "outputs": [],
   "source": [
    "with open('/home/ncslaber/lat_lon.csv', 'r') as csvfile:\n",
    "    lat, lng = csv.reader(csvfile, delimiter=',')"
   ]
  },
  {
   "cell_type": "code",
   "execution_count": 15,
   "id": "2fa93c63",
   "metadata": {},
   "outputs": [],
   "source": [
    "lng = float(lng[0])"
   ]
  },
  {
   "cell_type": "code",
   "execution_count": 16,
   "id": "872c2e0f",
   "metadata": {},
   "outputs": [
    {
     "data": {
      "text/plain": [
       "121.60401633333"
      ]
     },
     "execution_count": 16,
     "metadata": {},
     "output_type": "execute_result"
    }
   ],
   "source": [
    "lng"
   ]
  },
  {
   "cell_type": "code",
   "execution_count": 22,
   "id": "ae070914",
   "metadata": {},
   "outputs": [],
   "source": [
    "neg_bd = np.load('/home/ncslaber/shapefiles/test/utm_neg/neg1_bd_utm.npy')"
   ]
  },
  {
   "cell_type": "code",
   "execution_count": 26,
   "id": "0bb93140",
   "metadata": {},
   "outputs": [
    {
     "data": {
      "text/plain": [
       "(array([25.08220337, 25.08220562, 25.08220726, 25.08220784, 25.08220721,\n",
       "        25.08220554, 25.08220328, 25.08220103, 25.08219939, 25.08219881,\n",
       "        25.08219944, 25.08220111]),\n",
       " array([121.60396137, 121.60396068, 121.60395885, 121.60395636,\n",
       "        121.60395389, 121.60395209, 121.60395145, 121.60395214,\n",
       "        121.60395398, 121.60395646, 121.60395893, 121.60396073]))"
      ]
     },
     "execution_count": 26,
     "metadata": {},
     "output_type": "execute_result"
    }
   ],
   "source": [
    "utm.to_latlon(neg_bd[:,0], neg_bd[:,1], 51, 'R')"
   ]
  },
  {
   "cell_type": "code",
   "execution_count": 35,
   "id": "855df2fc",
   "metadata": {},
   "outputs": [],
   "source": [
    "r = shapefile.Reader('/home/ncslaber/shapefiles/test/pos/pos_Dahu_enlarge')\n",
    "# for shaperec in r.iterShapeRecords():\n",
    "#     print(shaperec.shape)\n",
    "#     pos_bd = shaperec.shape(0)\n",
    "#     print(pos_bd(0))\n",
    "#     print(\"---\")\n",
    "# pos_bd = r.record(0)\n",
    "a = r.shape(0).points"
   ]
  },
  {
   "cell_type": "code",
   "execution_count": 36,
   "id": "f3521025",
   "metadata": {},
   "outputs": [],
   "source": [
    "a = np.asarray(a)"
   ]
  },
  {
   "cell_type": "code",
   "execution_count": 37,
   "id": "1f562fe6",
   "metadata": {},
   "outputs": [
    {
     "data": {
      "text/plain": [
       "array([25.08217079, 25.08217767, 25.08218137, 25.08218667, 25.08219249,\n",
       "       25.08219777, 25.08220196, 25.08220454, 25.08220766, 25.08221226,\n",
       "       25.08221472, 25.08221389, 25.08221258, 25.08220795, 25.08220444,\n",
       "       25.082201  , 25.08219807, 25.08219409, 25.08218903, 25.08218281,\n",
       "       25.08217713, 25.08217092, 25.08215979, 25.08214714, 25.08214494,\n",
       "       25.0821346 , 25.08213351, 25.08212485, 25.08212431, 25.08211302,\n",
       "       25.08210607, 25.08210071, 25.08209698, 25.08209274, 25.08209183,\n",
       "       25.08209049, 25.08208685, 25.08208597, 25.08208615, 25.0820853 ,\n",
       "       25.0820838 , 25.08208418, 25.08208655, 25.08208724, 25.08209081,\n",
       "       25.08209476, 25.08209807, 25.08210246, 25.08210827, 25.08211247,\n",
       "       25.08211698, 25.0821176 , 25.08212042, 25.08212386, 25.08212731,\n",
       "       25.08212734, 25.08212849, 25.08213577, 25.082144  , 25.0821505 ,\n",
       "       25.08216128, 25.08216611, 25.08216819, 25.08217079])"
      ]
     },
     "execution_count": 37,
     "metadata": {},
     "output_type": "execute_result"
    }
   ],
   "source": [
    "a[:,0]"
   ]
  },
  {
   "cell_type": "code",
   "execution_count": 38,
   "id": "41016887",
   "metadata": {},
   "outputs": [
    {
     "data": {
      "text/plain": [
       "682.6666666666666"
      ]
     },
     "execution_count": 38,
     "metadata": {},
     "output_type": "execute_result"
    }
   ],
   "source": [
    "1024/3*2"
   ]
  },
  {
   "cell_type": "code",
   "execution_count": null,
   "id": "062caa3c",
   "metadata": {},
   "outputs": [],
   "source": []
  }
 ],
 "metadata": {
  "kernelspec": {
   "display_name": "Python 3",
   "language": "python",
   "name": "python3"
  },
  "language_info": {
   "codemirror_mode": {
    "name": "ipython",
    "version": 3
   },
   "file_extension": ".py",
   "mimetype": "text/x-python",
   "name": "python",
   "nbconvert_exporter": "python",
   "pygments_lexer": "ipython3",
   "version": "3.8.10"
  }
 },
 "nbformat": 4,
 "nbformat_minor": 5
}
