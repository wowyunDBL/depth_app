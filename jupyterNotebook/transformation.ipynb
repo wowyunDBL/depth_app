{
 "cells": [
  {
   "cell_type": "code",
   "execution_count": 1,
   "metadata": {},
   "outputs": [
    {
     "name": "stdout",
     "output_type": "stream",
     "text": [
      "in linux\n"
     ]
    }
   ],
   "source": [
    "import sys\n",
    "if sys.platform.startswith('linux'): # or win\n",
    "    print(\"in linux\")\n",
    "    file_path = \"/home/ncslaber/109-2/tree_experiment/npy_depth/p_1_45/\"\n",
    "#     sys.path.remove('/opt/ros/kinetic/lib/python2.7/dist-packages')\n",
    "else:\n",
    "    file_path = r\"G:/我的雲端硬碟/0327_align_depth/\""
   ]
  },
  {
   "cell_type": "code",
   "execution_count": 2,
   "metadata": {},
   "outputs": [],
   "source": [
    "'''math tool'''\n",
    "import csv\n",
    "import numpy as np\n",
    "\n",
    "'''plot tool'''\n",
    "import matplotlib.pyplot as plt\n",
    "from mpl_toolkits.mplot3d import Axes3D\n",
    "from matplotlib import cm\n",
    "from matplotlib.ticker import LinearLocator\n",
    "import matplotlib.ticker as ticker\n",
    "\n",
    "'''image tool'''\n",
    "import cv2\n",
    "import pyrealsense2 as rs\n",
    "import statistics as sta"
   ]
  },
  {
   "cell_type": "code",
   "execution_count": 3,
   "metadata": {},
   "outputs": [
    {
     "data": {
      "text/plain": [
       "<matplotlib.image.AxesImage at 0x7f3d2c03d670>"
      ]
     },
     "execution_count": 3,
     "metadata": {},
     "output_type": "execute_result"
    },
    {
     "data": {
      "image/png": "[encoded data removed]",
      "text/plain": [
       "<Figure size 432x288 with 1 Axes>"
      ]
     },
     "metadata": {
      "needs_background": "light"
     },
     "output_type": "display_data"
    }
   ],
   "source": [
    "npDepth = []\n",
    "\n",
    "npDepth = np.load(file_path+\"1.npy\")\n",
    "\n",
    "npDepthF = cv2.convertScaleAbs(npDepth, alpha=0.085) # 6m\n",
    "npDepthF_color = cv2.applyColorMap(npDepthF, cv2.COLORMAP_JET)\n",
    "%matplotlib inline\n",
    "plt.imshow(cv2.cvtColor(npDepthF_color, cv2.COLOR_BGR2RGB))"
   ]
  },
  {
   "cell_type": "code",
   "execution_count": 4,
   "metadata": {},
   "outputs": [
    {
     "data": {
      "text/plain": [
       "<matplotlib.image.AxesImage at 0x7f3d26bc32b0>"
      ]
     },
     "execution_count": 4,
     "metadata": {},
     "output_type": "execute_result"
    },
    {
     "data": {
      "image/png": "[encoded data removed]",
      "text/plain": [
       "<Figure size 432x288 with 1 Axes>"
      ]
     },
     "metadata": {
      "needs_background": "light"
     },
     "output_type": "display_data"
    }
   ],
   "source": [
    "color_seq = {'brown': (0,130,210), 'red':(0,0,255),'yellow':(22,220,220),'green':(0,255,0),'blue':(255,0,0),'black':(0,0,0)}\n",
    "npDepth_seg = np.zeros((npDepth.shape[0],npDepth.shape[1],3))\n",
    "\n",
    "npDepth_seg[npDepth<1500]=color_seq['blue']\n",
    "npDepth_seg[np.logical_and(npDepth<2000,npDepth>1500)]=color_seq['green']\n",
    "npDepth_seg[np.logical_and(npDepth<3000,npDepth>2000)]=color_seq['yellow']\n",
    "npDepth_seg[np.logical_and(npDepth<6000,npDepth>3000)]=color_seq['red']\n",
    "npDepth_seg[npDepth>6000]=color_seq['brown']\n",
    "npDepth_seg[npDepth==0]=color_seq['black']\n",
    "\n",
    "npDepth_seg = npDepth_seg.astype('uint8')\n",
    "%matplotlib inline\n",
    "plt.imshow(cv2.cvtColor(npDepth_seg, cv2.COLOR_BGR2RGB))"
   ]
  },
  {
   "cell_type": "code",
   "execution_count": 5,
   "metadata": {},
   "outputs": [],
   "source": [
    "def depth(x,y):\n",
    "    return npDepth[x][y]\n",
    "class Point3D:\n",
    "    x: int = 0\n",
    "    y: int = 0\n",
    "    z: int = 0\n",
    "cx_d = 328 #424\n",
    "cy_d = 241 #241\n",
    "fx_d = 617 #424\n",
    "fy_d = 617 #424\n",
    "\n",
    "npPointX = np.asarray(range(640))-cx_d\n",
    "npPointX = np.diag(npPointX)\n",
    "npPointX = npDepth.dot(npPointX)/ fx_d * (-1)\n",
    "\n",
    "npPointY = np.asarray(range(480))-cy_d\n",
    "npPointY = np.diag(npPointY)\n",
    "theta = 0/180*np.pi\n",
    "npPointY = npPointY.dot(npDepth)/ fy_d * (-1) \n",
    "npPointY = npPointY*np.cos(theta) + npDepth * np.sin(theta) + 360\n",
    "\n",
    "npPointY = npPointY.astype('float16')"
   ]
  },
  {
   "cell_type": "code",
   "execution_count": 6,
   "metadata": {},
   "outputs": [
    {
     "name": "stdout",
     "output_type": "stream",
     "text": [
      "float16\n"
     ]
    },
    {
     "data": {
      "text/plain": [
       "<matplotlib.image.AxesImage at 0x7f3d26b213d0>"
      ]
     },
     "execution_count": 6,
     "metadata": {},
     "output_type": "execute_result"
    },
    {
     "data": {
      "image/png": "[encoded data removed]",
      "text/plain": [
       "<Figure size 432x288 with 1 Axes>"
      ]
     },
     "metadata": {
      "needs_background": "light"
     },
     "output_type": "display_data"
    }
   ],
   "source": [
    "'''depth segmentation'''\n",
    "npHeight = np.copy(npPointY)\n",
    "color_seq = {'brown': (0,130,210), 'red':(0,0,255),'yellow':(22,220,220),\n",
    "                'green':(0,255,0),'blue':(255,0,0),'black':(0,0,0)}\n",
    "npHeight_seg = np.zeros((npDepth.shape[0],npDepth.shape[1],3))\n",
    "\n",
    "npHeight_seg[npHeight<-160]=color_seq['blue']\n",
    "npHeight_seg[np.logical_and(npHeight<-80,npHeight>-160)]=color_seq['green']\n",
    "npHeight_seg[np.logical_and(npHeight<0,npHeight>-80)]=color_seq['yellow']\n",
    "npHeight_seg[np.logical_and(npHeight<80,npHeight>0)]=color_seq['red']\n",
    "npHeight_seg[npHeight>80]=color_seq['brown']\n",
    "npHeight_seg[npHeight==360]=color_seq['black']\n",
    "npHeight_seg[np.logical_and(npHeight<0.9,npHeight>-0.9)]=(255,255,255)\n",
    "# print(*(npDepth[np.logical_and(npHeight<0.9,npHeight>-0.9)]))\n",
    "print(npHeight.dtype)\n",
    "npHeight_seg = npHeight_seg.astype('uint8')\n",
    "%matplotlib inline\n",
    "plt.imshow(cv2.cvtColor(npHeight_seg, cv2.COLOR_BGR2RGB))"
   ]
  },
  {
   "cell_type": "code",
   "execution_count": 7,
   "metadata": {},
   "outputs": [
    {
     "name": "stdout",
     "output_type": "stream",
     "text": [
      "238\n",
      "-0.004201680672268907\n",
      "-370\n",
      "959.2016806722688\n"
     ]
    },
    {
     "data": {
      "text/plain": [
       "<matplotlib.image.AxesImage at 0x7f3d26af7640>"
      ]
     },
     "execution_count": 7,
     "metadata": {},
     "output_type": "execute_result"
    },
    {
     "data": {
      "image/png": "[encoded data removed]",
      "text/plain": [
       "<Figure size 432x288 with 1 Axes>"
      ]
     },
     "metadata": {
      "needs_background": "light"
     },
     "output_type": "display_data"
    }
   ],
   "source": [
    "test = np.zeros_like(npDepth, dtype=np.int32)\n",
    "test[:240]=6000\n",
    "test[240:480]=-10-360\n",
    "\n",
    "npPointY = np.asarray(range(480))-cy_d\n",
    "npPointY[npPointY==0]=1\n",
    "print(npPointY[479])\n",
    "npPointY = -1/npPointY\n",
    "npPointY = np.diag(npPointY)\n",
    "\n",
    "print(npPointY[479][479])\n",
    "print(test[479][0])\n",
    "test = test*fy_d\n",
    "test = npPointY.dot(test)\n",
    "print(test[479][0])\n",
    "\n",
    "'''depth segmentation'''\n",
    "npDepth = np.copy(test)\n",
    "color_seq = {'brown': (0,130,210), 'red':(0,0,255),'yellow':(22,220,220),\n",
    "                'green':(0,255,0),'blue':(255,0,0),'black':(0,0,0)}\n",
    "npDepth_seg = np.zeros((npDepth.shape[0],npDepth.shape[1],3))\n",
    "\n",
    "npDepth_seg[npDepth<1500]=color_seq['blue']\n",
    "npDepth_seg[np.logical_and(npDepth<2000,npDepth>1500)]=color_seq['green']\n",
    "npDepth_seg[np.logical_and(npDepth<3000,npDepth>2000)]=color_seq['yellow']\n",
    "npDepth_seg[np.logical_and(npDepth<6000,npDepth>3000)]=color_seq['red']\n",
    "npDepth_seg[npDepth>6000]=color_seq['brown']\n",
    "npDepth_seg[npDepth==0]=color_seq['black']\n",
    "\n",
    "npDepth_seg = npDepth_seg.astype('uint8')\n",
    "%matplotlib inline\n",
    "plt.imshow(cv2.cvtColor(npDepth_seg, cv2.COLOR_BGR2RGB))"
   ]
  },
  {
   "cell_type": "code",
   "execution_count": null,
   "metadata": {},
   "outputs": [],
   "source": []
  }
 ],
 "metadata": {
  "kernelspec": {
   "display_name": "Python 3",
   "language": "python",
   "name": "python3"
  },
  "language_info": {
   "codemirror_mode": {
    "name": "ipython",
    "version": 3
   },
   "file_extension": ".py",
   "mimetype": "text/x-python",
   "name": "python",
   "nbconvert_exporter": "python",
   "pygments_lexer": "ipython3",
   "version": "3.8.5"
  }
 },
 "nbformat": 4,
 "nbformat_minor": 2
}
