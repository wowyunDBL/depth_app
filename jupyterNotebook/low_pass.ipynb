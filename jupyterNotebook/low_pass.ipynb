{
 "cells": [
  {
   "cell_type": "code",
   "execution_count": 1,
   "id": "9165b643",
   "metadata": {},
   "outputs": [
    {
     "name": "stdout",
     "output_type": "stream",
     "text": [
      "in linux\n"
     ]
    }
   ],
   "source": [
    "import sys\n",
    "if sys.platform.startswith('linux'): # or win\n",
    "    print(\"in linux\")\n",
    "    file_path = \"/home/ncslaber/109-2/tree_experiment/npy_depth/npy/\"\n",
    "#     sys.path.remove('/opt/ros/kinetic/lib/python2.7/dist-packages')"
   ]
  },
  {
   "cell_type": "code",
   "execution_count": 2,
   "id": "fbb15b44",
   "metadata": {},
   "outputs": [],
   "source": [
    "'''math tool'''\n",
    "import csv\n",
    "import numpy as np\n",
    "import time\n",
    "\n",
    "'''plot tool'''\n",
    "import matplotlib.pyplot as plt\n",
    "from mpl_toolkits.mplot3d import Axes3D\n",
    "from matplotlib import cm\n",
    "from matplotlib.ticker import LinearLocator\n",
    "import matplotlib.ticker as ticker\n",
    "\n",
    "'''image tool'''\n",
    "import cv2\n",
    "import statistics # as sta\n",
    "\n",
    "import time"
   ]
  },
  {
   "cell_type": "code",
   "execution_count": 3,
   "id": "818c0632",
   "metadata": {},
   "outputs": [],
   "source": [
    "def world(npDepth):\n",
    "    '''world coordinate'''\n",
    "    cx_d = 328 #424\n",
    "    cy_d = 241 #241\n",
    "    fx_d = 617 #424\n",
    "    fy_d = 617 #424\n",
    "    npPointX = np.asarray(range(640))-cx_d\n",
    "    npPointX = np.diag(npPointX)\n",
    "    npPointX = npDepth.dot(npPointX)/ fx_d * (-1)\n",
    "\n",
    "    npPointY = np.asarray(range(480))-cy_d\n",
    "    npPointY = np.diag(npPointY)\n",
    "\n",
    "    theta = 0/180*np.pi\n",
    "    npPointY = npPointY.dot(npDepth)/ fy_d * (-1) \n",
    "    npPointY = npPointY*np.cos(theta) + npDepth * np.sin(theta) + 360\n",
    "    npPointY = npPointY.astype('float16')\n",
    "\n",
    "    '''filter out 5mm'''\n",
    "    npHeight = np.copy(npPointY)\n",
    "    npHeight = npHeight.astype('float32')\n",
    "\n",
    "    ret, npHeight_binary = cv2.threshold(npHeight, 5, 255, cv2.THRESH_BINARY)\n",
    "    npHeight_binary = npHeight_binary.astype('uint8')\n",
    "    return npHeight_binary"
   ]
  },
  {
   "cell_type": "code",
   "execution_count": 4,
   "id": "b921943d",
   "metadata": {},
   "outputs": [
    {
     "data": {
      "text/plain": [
       "<matplotlib.image.AxesImage at 0x7f2f98693b80>"
      ]
     },
     "execution_count": 4,
     "metadata": {},
     "output_type": "execute_result"
    },
    {
     "data": {
      "image/png": "[encoded data removed]",
      "text/plain": [
       "<Figure size 720x1800 with 1 Axes>"
      ]
     },
     "metadata": {
      "needs_background": "light"
     },
     "output_type": "display_data"
    }
   ],
   "source": [
    "'''initialize'''\n",
    "npDepth1 = np.load(file_path+\"8_8.npy\")\n",
    "npDepthF1 = cv2.convertScaleAbs(npDepth1, alpha=0.085)\n",
    "npHeight_binary1 = world(npDepth1)\n",
    "\n",
    "npDepth2 = np.load(file_path+\"9_0.npy\")\n",
    "npDepthF2 = cv2.convertScaleAbs(npDepth2, alpha=0.085)\n",
    "npHeight_binary2 = world(npDepth2)\n",
    "\n",
    "npDepth3 = np.load(file_path+\"9_2.npy\")\n",
    "npDepthF3 = cv2.convertScaleAbs(npDepth3, alpha=0.085)\n",
    "npHeight_binary3 = world(npDepth3)\n",
    "\n",
    "npDepth4 = np.load(file_path+\"9_4.npy\")\n",
    "npDepthF4 = cv2.convertScaleAbs(npDepth4, alpha=0.085)\n",
    "npHeight_binary4 = world(npDepth4)\n",
    "\n",
    "npDepth5 = np.load(file_path+\"9_6.npy\")\n",
    "npDepthF5 = cv2.convertScaleAbs(npDepth5, alpha=0.085)\n",
    "npHeight_binary5 = world(npDepth5)\n",
    "\n",
    "moving_avg = np.hstack([npHeight_binary1, npHeight_binary2, npHeight_binary3, npHeight_binary4, npHeight_binary5])\n",
    "fig = plt.subplots(figsize=(10,25))\n",
    "plt.imshow(cv2.cvtColor(moving_avg,cv2.COLOR_BGR2RGB))"
   ]
  },
  {
   "cell_type": "code",
   "execution_count": 5,
   "id": "97dba12f",
   "metadata": {},
   "outputs": [
    {
     "name": "stdout",
     "output_type": "stream",
     "text": [
      "[[1275 1275 1275 ... 1275 1275 1275]\n",
      " [1275 1275 1275 ... 1275 1275 1275]\n",
      " [1275 1275 1275 ... 1275 1275 1275]\n",
      " ...\n",
      " [   0    0    0 ...  255  255  765]\n",
      " [   0    0    0 ...  255  255  765]\n",
      " [1275 1275 1275 ...  255  255  765]]\n"
     ]
    },
    {
     "data": {
      "text/plain": [
       "<matplotlib.image.AxesImage at 0x7f2f68280580>"
      ]
     },
     "execution_count": 5,
     "metadata": {},
     "output_type": "execute_result"
    },
    {
     "data": {
      "image/png": "[encoded data removed]",
      "text/plain": [
       "<Figure size 432x288 with 1 Axes>"
      ]
     },
     "metadata": {
      "needs_background": "light"
     },
     "output_type": "display_data"
    }
   ],
   "source": [
    "# build model\n",
    "npHeight_binary1 = npHeight_binary1.astype('uint32')\n",
    "npHeight_binary2 = npHeight_binary2.astype('uint32')\n",
    "npHeight_binary3 = npHeight_binary3.astype('uint32')\n",
    "npHeight_binary4 = npHeight_binary4.astype('uint32')\n",
    "npHeight_binary5 = npHeight_binary2.astype('uint32')\n",
    "param_model = npHeight_binary1+npHeight_binary2+npHeight_binary3+npHeight_binary4+npHeight_binary5\n",
    "print(param_model)\n",
    "param_model = param_model/5\n",
    "moving_avg = np.zeros_like(param_model)\n",
    "moving_avg[param_model<=0.5]=int(0)\n",
    "moving_avg[param_model>0.5]=int(255)\n",
    "\n",
    "moving_avg = moving_avg.astype('uint8')\n",
    "plt.imshow(cv2.cvtColor(moving_avg,cv2.COLOR_BGR2RGB))"
   ]
  },
  {
   "cell_type": "code",
   "execution_count": 9,
   "id": "19ae6e92",
   "metadata": {},
   "outputs": [
    {
     "name": "stdout",
     "output_type": "stream",
     "text": [
      "<class 'numpy.ndarray'>\n"
     ]
    },
    {
     "data": {
      "text/plain": [
       "<matplotlib.image.AxesImage at 0x7f2f680dddc0>"
      ]
     },
     "execution_count": 9,
     "metadata": {},
     "output_type": "execute_result"
    },
    {
     "data": {
      "image/png": "[encoded data removed]",
      "text/plain": [
       "<Figure size 432x288 with 1 Axes>"
      ]
     },
     "metadata": {
      "needs_background": "light"
     },
     "output_type": "display_data"
    }
   ],
   "source": [
    "'''new input'''\n",
    "npDepth = np.load(file_path+\"9_8.npy\")\n",
    "npDepthF = cv2.convertScaleAbs(npDepth, alpha=0.085)\n",
    "npHeight_binary = world(npDepth)\n",
    "print(type(npHeight_binary))\n",
    "\n",
    "'''update'''\n",
    "alpha=0.5\n",
    "param_model = (1-alpha)*param_model+alpha*npHeight_binary\n",
    "param_model = param_model.astype('uint8')\n",
    "plt.imshow(cv2.cvtColor(param_model,cv2.COLOR_BGR2RGB))"
   ]
  },
  {
   "cell_type": "code",
   "execution_count": 10,
   "id": "18bdf47f",
   "metadata": {},
   "outputs": [
    {
     "name": "stdout",
     "output_type": "stream",
     "text": [
      "uint8\n"
     ]
    },
    {
     "data": {
      "text/plain": [
       "<matplotlib.image.AxesImage at 0x7f2f680b38b0>"
      ]
     },
     "execution_count": 10,
     "metadata": {},
     "output_type": "execute_result"
    },
    {
     "data": {
      "image/png": "[encoded data removed]",
      "text/plain": [
       "<Figure size 432x288 with 1 Axes>"
      ]
     },
     "metadata": {
      "needs_background": "light"
     },
     "output_type": "display_data"
    }
   ],
   "source": [
    "moving_avg[param_model<=130]=int(0)\n",
    "moving_avg[param_model>130]=int(255)\n",
    "print(moving_avg.dtype)\n",
    "plt.imshow(cv2.cvtColor(moving_avg,cv2.COLOR_BGR2RGB))"
   ]
  },
  {
   "cell_type": "code",
   "execution_count": 11,
   "id": "5f54ea6c",
   "metadata": {},
   "outputs": [
    {
     "data": {
      "text/plain": [
       "<matplotlib.lines.Line2D at 0x7f2f68090a00>"
      ]
     },
     "execution_count": 11,
     "metadata": {},
     "output_type": "execute_result"
    },
    {
     "data": {
      "image/png": "[encoded data removed]",
      "text/plain": [
       "<Figure size 432x288 with 1 Axes>"
      ]
     },
     "metadata": {
      "needs_background": "light"
     },
     "output_type": "display_data"
    }
   ],
   "source": [
    "hog = np.zeros(256)\n",
    "for i in range(param_model.shape[0]):\n",
    "    for j in range(param_model.shape[1]):\n",
    "        index = param_model[i][j]\n",
    "        hog[index] = hog[index]+1\n",
    "plt.plot(hog)\n",
    "plt.axvline(95, color = 'r') # 191"
   ]
  },
  {
   "cell_type": "code",
   "execution_count": null,
   "id": "5c808b11",
   "metadata": {},
   "outputs": [],
   "source": []
  }
 ],
 "metadata": {
  "kernelspec": {
   "display_name": "Python 3",
   "language": "python",
   "name": "python3"
  },
  "language_info": {
   "codemirror_mode": {
    "name": "ipython",
    "version": 3
   },
   "file_extension": ".py",
   "mimetype": "text/x-python",
   "name": "python",
   "nbconvert_exporter": "python",
   "pygments_lexer": "ipython3",
   "version": "3.8.10"
  }
 },
 "nbformat": 4,
 "nbformat_minor": 5
}
