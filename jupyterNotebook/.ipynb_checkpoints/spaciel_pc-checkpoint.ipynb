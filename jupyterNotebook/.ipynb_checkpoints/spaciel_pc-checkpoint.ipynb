{
 "cells": [
  {
   "cell_type": "code",
   "execution_count": 6,
   "metadata": {},
   "outputs": [
    {
     "name": "stdout",
     "output_type": "stream",
     "text": [
      "in linux\n"
     ]
    }
   ],
   "source": [
    "import sys\n",
    "if sys.platform.startswith('linux'): # or win\n",
    "    print(\"in linux\")\n",
    "    file_path = \"/home/anny/109-2/0618_mapExperiment/oneTree_MD/\""
   ]
  },
  {
   "cell_type": "code",
   "execution_count": 7,
   "metadata": {},
   "outputs": [],
   "source": [
    "'''math tool'''\n",
    "import csv\n",
    "import numpy as np\n",
    "\n",
    "'''plot tool'''\n",
    "import matplotlib.pyplot as plt\n",
    "from mpl_toolkits.mplot3d import Axes3D\n",
    "from matplotlib import cm\n",
    "from matplotlib.ticker import LinearLocator\n",
    "import matplotlib.ticker as ticker\n",
    "\n",
    "'''image tool'''\n",
    "import cv2\n",
    "# import pyrealsense2 as rs\n",
    "import statistics # as sta"
   ]
  },
  {
   "cell_type": "code",
   "execution_count": 12,
   "metadata": {},
   "outputs": [
    {
     "data": {
      "text/plain": [
       "<matplotlib.image.AxesImage at 0x7f6f1f702cd0>"
      ]
     },
     "execution_count": 12,
     "metadata": {},
     "output_type": "execute_result"
    },
    {
     "data": {
      "image/png": "[encoded data removed]",
      "text/plain": [
       "<Figure size 432x288 with 1 Axes>"
      ]
     },
     "metadata": {
      "needs_background": "light"
     },
     "output_type": "display_data"
    }
   ],
   "source": [
    "# '''load file'''\n",
    "# npDepth = np.load(file_path+\"npyD_0_6.npy\")\n",
    "# color = np.load(file_path+'npyC_0_6.npy')\n",
    "'''load file'''\n",
    "npTreeMask = np.load(\"/home/ncslaber/109-2/simulation/treeMask_.npy\") # 2_result/npyD_20_0\n",
    "#color = np.load('/home/anny/109-2/0420_treeExperiment/npy/1_result/npyC_2_0.npy')\n",
    "\n",
    "npDepthF = cv2.convertScaleAbs(npDepth, alpha=0.085) # 3m\n",
    "npDepthF_color = cv2.applyColorMap(npDepthF, cv2.COLORMAP_JET)\n",
    "%matplotlib inline\n",
    "plt.imshow(cv2.cvtColor(npDepth, cv2.COLOR_GRAY2RGB))"
   ]
  },
  {
   "cell_type": "code",
   "execution_count": 4,
   "metadata": {},
   "outputs": [],
   "source": [
    "def fnFilterDepth(npDepth):\n",
    "    npDepth_binary = np.copy(npDepth)\n",
    "    npDepth_binary = npDepth_binary.astype('float32')\n",
    "\n",
    "    ret, npDepth_binary1 = cv2.threshold(npDepth_binary, 4500, 255, cv2.THRESH_BINARY_INV)\n",
    "    ret, npDepth_binary2 = cv2.threshold(npDepth_binary, 500, 255, cv2.THRESH_BINARY)\n",
    "    npDepth_binary1 = npDepth_binary1.astype('uint8')\n",
    "    npDepth_binary2 = npDepth_binary2.astype('uint8')\n",
    "\n",
    "    npDepth_binary = cv2.bitwise_and(npDepth_binary1, npDepth_binary2)\n",
    "    npDepth_binary = npDepth_binary.astype('uint8')\n",
    "    return npDepth_binary"
   ]
  },
  {
   "cell_type": "code",
   "execution_count": 5,
   "metadata": {},
   "outputs": [],
   "source": [
    "rects = []\n",
    "height,width = npDepth.shape\n",
    "npDepthROI = npDepth[160:]\n",
    "\n",
    "'''filter out 3m'''\n",
    "npDepthROI = npDepth[160:]\n",
    "npDepth_binary = fnFilterDepth(npDepthROI)\n",
    "    "
   ]
  },
  {
   "cell_type": "code",
   "execution_count": 6,
   "metadata": {},
   "outputs": [],
   "source": [
    "def fnFilterHeight(npHeight):\n",
    "    ret, npHeight_binary = cv2.threshold(npHeight, 150, 255, cv2.THRESH_BINARY) # below 100mm\n",
    "    npHeight_binary = npHeight_binary.astype('uint8')\n",
    "    \n",
    "    alpha=0.2\n",
    "    param_model = npHeight_binary\n",
    "    param_model = param_model.astype('uint8')\n",
    "    moving_avg = np.zeros_like(param_model)\n",
    "    moving_avg[param_model<=130]=int(0)\n",
    "    moving_avg[param_model>130]=int(255)\n",
    "    return moving_avg, npHeight_binary"
   ]
  },
  {
   "cell_type": "code",
   "execution_count": 7,
   "metadata": {},
   "outputs": [],
   "source": [
    "def fnWorldCoord(npDepth):\n",
    "    cx_d = 328 #424\n",
    "    cy_d = 241 #241\n",
    "    fx_d = 617 #424\n",
    "    fy_d = 617 #424\n",
    "    layer = 80 # middle point cloud\n",
    "    npPointX = np.asarray(range(640))-cx_d\n",
    "    npPointX = np.diag(npPointX)\n",
    "    npPointX = npDepth.dot(npPointX)/ fx_d \n",
    "#     npPointX_2D = npPointX*npDepth[layer] / fx_d \n",
    "#     npPointX_2D = npPointX_2D.astype('float16')\n",
    "\n",
    "    npPointY = np.asarray(range(320))-cy_d+160\n",
    "    npPointY = np.diag(npPointY)\n",
    "    theta = 0/180*np.pi\n",
    "    npPointY = npPointY.dot(npDepth)/ fy_d * (-1) \n",
    "    npPointY = npPointY*np.cos(theta) + 360 # + npDepth * np.sin(theta)\n",
    "    npPointY = npPointY.astype('float16')\n",
    "#     npPointZ_2D = np.copy(npDepth[layer])\n",
    "    npPointZ = npDepth\n",
    "    return npPointY, npPointX, npPointZ\n",
    "#     return npPointY, npPointX_2D, npPointZ_2D"
   ]
  },
  {
   "cell_type": "code",
   "execution_count": 8,
   "metadata": {},
   "outputs": [
    {
     "data": {
      "text/plain": [
       "(480, 640)"
      ]
     },
     "execution_count": 8,
     "metadata": {},
     "output_type": "execute_result"
    }
   ],
   "source": [
    "npDepth.shape"
   ]
  },
  {
   "cell_type": "code",
   "execution_count": 9,
   "metadata": {},
   "outputs": [
    {
     "data": {
      "text/plain": [
       "<matplotlib.image.AxesImage at 0x7fe74c53e690>"
      ]
     },
     "execution_count": 9,
     "metadata": {},
     "output_type": "execute_result"
    },
    {
     "data": {
      "image/png": "[encoded data removed]",
      "text/plain": [
       "<Figure size 432x288 with 1 Axes>"
      ]
     },
     "metadata": {
      "needs_background": "light"
     },
     "output_type": "display_data"
    }
   ],
   "source": [
    "'''world coordinate'''\n",
    "npPointY, npPointX, npPointZ = fnWorldCoord(npDepthROI)\n",
    "\n",
    "'''filter out 5mm'''\n",
    "# start_time = time.time()\n",
    "npHeight = np.copy(npPointY)\n",
    "npHeight = npHeight.astype('float32')\n",
    "moving_avg, npHeight_binary = fnFilterHeight(npHeight)\n",
    "npTreeMask = cv2.bitwise_and(npDepth_binary, moving_avg)\n",
    "%matplotlib inline\n",
    "plt.imshow(cv2.cvtColor(npTreeMask, cv2.COLOR_GRAY2RGB))"
   ]
  },
  {
   "cell_type": "code",
   "execution_count": 13,
   "metadata": {},
   "outputs": [
    {
     "ename": "NameError",
     "evalue": "name 'npPointX' is not defined",
     "output_type": "error",
     "traceback": [
      "\u001b[0;31m---------------------------------------------------------------------------\u001b[0m",
      "\u001b[0;31mNameError\u001b[0m                                 Traceback (most recent call last)",
      "\u001b[0;32m<ipython-input-13-1b3bd1c2266e>\u001b[0m in \u001b[0;36m<module>\u001b[0;34m\u001b[0m\n\u001b[1;32m      6\u001b[0m \u001b[0;32mfor\u001b[0m \u001b[0mi\u001b[0m \u001b[0;32min\u001b[0m \u001b[0mrange\u001b[0m\u001b[0;34m(\u001b[0m\u001b[0;36m319\u001b[0m\u001b[0;34m,\u001b[0m\u001b[0;34m-\u001b[0m\u001b[0;36m1\u001b[0m\u001b[0;34m,\u001b[0m\u001b[0;34m-\u001b[0m\u001b[0;36m1\u001b[0m\u001b[0;34m)\u001b[0m\u001b[0;34m:\u001b[0m\u001b[0;34m\u001b[0m\u001b[0;34m\u001b[0m\u001b[0m\n\u001b[1;32m      7\u001b[0m \u001b[0;31m#     npPointXZ = np.vstack((npPointX[i][npTreeMask[i,:]==255],npPointZ[i][npTreeMask[i,:]==255]))\u001b[0m\u001b[0;34m\u001b[0m\u001b[0;34m\u001b[0m\u001b[0;34m\u001b[0m\u001b[0m\n\u001b[0;32m----> 8\u001b[0;31m     \u001b[0ma\u001b[0m \u001b[0;34m=\u001b[0m \u001b[0mnpPointX\u001b[0m\u001b[0;34m[\u001b[0m\u001b[0mi\u001b[0m\u001b[0;34m]\u001b[0m\u001b[0;34m[\u001b[0m\u001b[0mnpTreeMask\u001b[0m\u001b[0;34m[\u001b[0m\u001b[0mi\u001b[0m\u001b[0;34m,\u001b[0m\u001b[0;34m:\u001b[0m\u001b[0;34m]\u001b[0m\u001b[0;34m==\u001b[0m\u001b[0;36m255\u001b[0m\u001b[0;34m]\u001b[0m\u001b[0;34m\u001b[0m\u001b[0;34m\u001b[0m\u001b[0m\n\u001b[0m\u001b[1;32m      9\u001b[0m     \u001b[0mb\u001b[0m \u001b[0;34m=\u001b[0m \u001b[0mnpPointZ\u001b[0m\u001b[0;34m[\u001b[0m\u001b[0mi\u001b[0m\u001b[0;34m]\u001b[0m\u001b[0;34m[\u001b[0m\u001b[0mnpTreeMask\u001b[0m\u001b[0;34m[\u001b[0m\u001b[0mi\u001b[0m\u001b[0;34m,\u001b[0m\u001b[0;34m:\u001b[0m\u001b[0;34m]\u001b[0m\u001b[0;34m==\u001b[0m\u001b[0;36m255\u001b[0m\u001b[0;34m]\u001b[0m\u001b[0;34m\u001b[0m\u001b[0;34m\u001b[0m\u001b[0m\n\u001b[1;32m     10\u001b[0m     \u001b[0mplt\u001b[0m\u001b[0;34m.\u001b[0m\u001b[0mscatter\u001b[0m\u001b[0;34m(\u001b[0m\u001b[0ma\u001b[0m\u001b[0;34m,\u001b[0m\u001b[0mb\u001b[0m\u001b[0;34m,\u001b[0m \u001b[0mc\u001b[0m\u001b[0;34m=\u001b[0m\u001b[0mcolors\u001b[0m\u001b[0;34m[\u001b[0m\u001b[0mi\u001b[0m\u001b[0;34m]\u001b[0m\u001b[0;34m,\u001b[0m \u001b[0ms\u001b[0m\u001b[0;34m=\u001b[0m\u001b[0;36m10\u001b[0m\u001b[0;34m)\u001b[0m\u001b[0;34m\u001b[0m\u001b[0;34m\u001b[0m\u001b[0m\n",
      "\u001b[0;31mNameError\u001b[0m: name 'npPointX' is not defined"
     ]
    },
    {
     "data": {
      "image/png": "[encoded data removed]",
      "text/plain": [
       "<Figure size 500x500 with 1 Axes>"
      ]
     },
     "metadata": {
      "needs_background": "light"
     },
     "output_type": "display_data"
    }
   ],
   "source": [
    "colors = cm.rainbow(np.linspace(1, 0, 320))\n",
    "\n",
    "fig, ax = plt.subplots(figsize=(5, 5), dpi=100)\n",
    "ax.axis('equal')\n",
    "\n",
    "for i in range(319,-1,-1):\n",
    "#     npPointXZ = np.vstack((npPointX[i][npTreeMask[i,:]==255],npPointZ[i][npTreeMask[i,:]==255])) \n",
    "    a = npPointX[i][npTreeMask[i,:]==255]\n",
    "    b = npPointZ[i][npTreeMask[i,:]==255]\n",
    "    plt.scatter(a,b, c=colors[i], s=10)\n",
    "#     plt.scatter(npPointXZ[1]/1000,-npPointXZ[0]/1000, c='r', s=10)\n",
    "# npPointXZ_X = np.logical_and(npPointX,npTreeMask==255)/1000*(-1)\n",
    "# npPointXZ_Z = np.logical_and(npPointZ,npTreeMask==255)/1000\n",
    "# npPointXZ = npPointXZ[:,npPointXZ[1,:]!=0]\n",
    "# npPointXZ = npPointXZ.reshape(2,-1)\n",
    "# npPointXZ = npPointXZ[:,npPointXZ[1,:]<4500]\n",
    "# npPointXZ = npPointXZ.reshape(3,-1)\n",
    "# base = np.ones(npPointXZ.shape[1])\n",
    "# npPointXY = np.vstack((npPointXZ[1]/1000, -npPointXZ[0]/1000, base))# notice I transform coordinate\n",
    "\n",
    "# plt.xlim([-3000,3000])\n",
    "plt.plot(0, 0,linestyle='None',markersize=20, marker='*', color='r',markeredgecolor='k',markeredgewidth=2)\n",
    "plt.title('2D point cloud')\n",
    "# fig.colorbar(ax, ticks=[0,80,160,240,320], label='height pixel value')\n",
    "# plt.colorbar(ticks=[0,80,160,240,320], label='height pixel value')\n",
    "plt.show()"
   ]
  },
  {
   "cell_type": "code",
   "execution_count": 11,
   "metadata": {
    "scrolled": true
   },
   "outputs": [
    {
     "data": {
      "text/plain": [
       "2583"
      ]
     },
     "execution_count": 11,
     "metadata": {},
     "output_type": "execute_result"
    }
   ],
   "source": [
    "np.min(npPointZ[npTreeMask==255])"
   ]
  },
  {
   "cell_type": "code",
   "execution_count": 12,
   "metadata": {},
   "outputs": [
    {
     "data": {
      "text/plain": [
       "(5,)"
      ]
     },
     "execution_count": 12,
     "metadata": {},
     "output_type": "execute_result"
    }
   ],
   "source": [
    "colors = cm.rainbow(np.linspace(1, 0, 320))\n",
    "\n",
    "fig, ax = plt.subplots(figsize=(5, 5), dpi=100)\n",
    "ax.axis('equal')\n",
    "\n",
    "for i in range(319,-1,-1):\n",
    "#     npPointXZ = np.vstack((npPointX[i][npTreeMask[i,:]==255],npPointZ[i][npTreeMask[i,:]==255])) \n",
    "    a = npPointX[i][npTreeMask[i,:]==255]\n",
    "    b = npPointZ[i][npTreeMask[i,:]==255]\n",
    "    plt.scatter(range(),b, c=colors[i], s=10)\n",
    "#     plt.scatter(npPointXZ[1]/1000,-npPointXZ[0]/1000, c='r', s=10)\n",
    "# npPointXZ_X = np.logical_and(npPointX,npTreeMask==255)/1000*(-1)\n",
    "# npPointXZ_Z = np.logical_and(npPointZ,npTreeMask==255)/1000\n",
    "# npPointXZ = npPointXZ[:,npPointXZ[1,:]!=0]\n",
    "# npPointXZ = npPointXZ.reshape(2,-1)\n",
    "# npPointXZ = npPointXZ[:,npPointXZ[1,:]<4500]\n",
    "# npPointXZ = npPointXZ.reshape(3,-1)\n",
    "# base = np.ones(npPointXZ.shape[1])\n",
    "# npPointXY = np.vstack((npPointXZ[1]/1000, -npPointXZ[0]/1000, base))# notice I transform coordinate\n",
    "\n",
    "# plt.xlim([-3000,3000])\n",
    "plt.plot(0, 0,linestyle='None',markersize=20, marker='*', color='r',markeredgecolor='k',markeredgewidth=2)\n",
    "plt.title('2D point cloud')\n",
    "# fig.colorbar(ax, ticks=[0,80,160,240,320], label='height pixel value')\n",
    "# plt.colorbar(ticks=[0,80,160,240,320], label='height pixel value')\n",
    "plt.show()"
   ]
  },
  {
   "cell_type": "code",
   "execution_count": 34,
   "metadata": {},
   "outputs": [
    {
     "data": {
      "image/png": "[encoded data removed]",
      "text/plain": [
       "<Figure size 500x500 with 1 Axes>"
      ]
     },
     "metadata": {
      "needs_background": "light"
     },
     "output_type": "display_data"
    }
   ],
   "source": [
    "fig, ax = plt.subplots(figsize=(5, 5), dpi=100)\n",
    "# ax.axis('equal')\n",
    "plt.xlim([-2000,3000])\n",
    "plt.ylim([0,4500])\n",
    "plt.scatter(npPointX[80][npTreeMask[80,:]==255],npPointZ[80][npTreeMask[80,:]==255], c='r')\n",
    "\n",
    "plt.show()"
   ]
  },
  {
   "cell_type": "code",
   "execution_count": 22,
   "metadata": {},
   "outputs": [
    {
     "data": {
      "text/plain": [
       "(-2000, 3000)"
      ]
     },
     "execution_count": 22,
     "metadata": {},
     "output_type": "execute_result"
    },
    {
     "data": {
      "image/png": "[encoded data removed]",
      "text/plain": [
       "<Figure size 500x500 with 1 Axes>"
      ]
     },
     "metadata": {
      "needs_background": "light"
     },
     "output_type": "display_data"
    }
   ],
   "source": [
    "fig, ax = plt.subplots(figsize=(5, 5), dpi=100)\n",
    "ax.axis('equal')\n",
    "plt.scatter(range(640),npPointZ[80], c='r')\n",
    "plt.xlim([-2000,3000])"
   ]
  },
  {
   "cell_type": "code",
   "execution_count": null,
   "metadata": {},
   "outputs": [],
   "source": []
  }
 ],
 "metadata": {
  "kernelspec": {
   "display_name": "Python 3",
   "language": "python",
   "name": "python3"
  },
  "language_info": {
   "codemirror_mode": {
    "name": "ipython",
    "version": 3
   },
   "file_extension": ".py",
   "mimetype": "text/x-python",
   "name": "python",
   "nbconvert_exporter": "python",
   "pygments_lexer": "ipython3",
   "version": "3.8.5"
  }
 },
 "nbformat": 4,
 "nbformat_minor": 2
}
